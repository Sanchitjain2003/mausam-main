{
 "cells": [
  {
   "cell_type": "code",
   "execution_count": null,
   "metadata": {},
   "outputs": [],
   "source": [
    "'''\n",
    "It is a comment. This code has to be typed in Arduino IDE. For reading data from sensors and then importing to Pthon\n",
    "This code has to be written the number sensor values to be taken.\n",
    "\n",
    "int sensorPin;  // The pin number                  \n",
    "int ledPin;     // The LED is connected on pin 13\n",
    "int sensorValue;     // variable to stores data\n",
    "\n",
    "void setup() // runs once when the sketch starts\n",
    "{\n",
    "  // make the LED pin (pin 13) an output pin\n",
    "  pinMode(ledPin, OUTPUT);\n",
    "\n",
    "  // initialize serial communication\n",
    "  Serial.begin(9600);\n",
    "}\n",
    "\n",
    "void loop() // runs repeatedly after setup() finishes\n",
    "{\n",
    "  sensorValue = analogRead(sensorPin);  // read pin A0   \n",
    "  Serial.println(sensorValue);         // send data to serial\n",
    "\n",
    "  delay(100);             // Pause 100 milliseconds\n",
    "}"
   ]
  },
  {
   "cell_type": "code",
   "execution_count": null,
   "metadata": {},
   "outputs": [],
   "source": [
    "import serial\n",
    "import time\n",
    "\n",
    "# set up the serial line\n",
    "ser = serial.Serial('COM4', 9600)\n",
    "time.sleep(2)\n",
    "\n",
    "# Read and record the data\n",
    "data =[]                       # empty list to store the data\n",
    "for i in range(50):\n",
    "    b = ser.readline()         # read a byte string\n",
    "        string_n = b.decode()  # decode byte string into Unicode  \n",
    "    string = string_n.rstrip() # remove \\n and \\r\n",
    "    flt = float(string)        # convert string to float\n",
    "    print(flt)\n",
    "    data.append(flt)           # add to the end of data list\n",
    "    time.sleep(0.1)            # wait (sleep) 0.1 seconds\n",
    "\n",
    "ser.close()\n",
    "\n",
    "#The code will be modified based on type of Data\n",
    "\n",
    "# show the data\n",
    "\n",
    "for line in data:\n",
    "    print(line)\n",
    "\n",
    "import matplotlib.pyplot as plt\n",
    "%matplotlib inline\n",
    "\n",
    "plt.plot(data)\n",
    "plt.xlabel('Time (seconds)')\n",
    "plt.ylabel('Potentiometer Reading')\n",
    "plt.title('Potentiometer Reading vs. Time')\n",
    "plt.show()"
   ]
  },
  {
   "cell_type": "code",
   "execution_count": null,
   "metadata": {},
   "outputs": [],
   "source": [
    "# To Transfer Data Read to a Database for future scope and for plotting\n"
   ]
  }
 ],
 "metadata": {
  "kernelspec": {
   "display_name": "Python 3",
   "language": "python",
   "name": "python3"
  },
  "language_info": {
   "codemirror_mode": {
    "name": "ipython",
    "version": 3
   },
   "file_extension": ".py",
   "mimetype": "text/x-python",
   "name": "python",
   "nbconvert_exporter": "python",
   "pygments_lexer": "ipython3",
   "version": "3.7.4"
  }
 },
 "nbformat": 4,
 "nbformat_minor": 2
}
